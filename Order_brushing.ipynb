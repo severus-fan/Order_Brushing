{
 "cells": [
  {
   "cell_type": "code",
   "execution_count": 170,
   "metadata": {},
   "outputs": [],
   "source": [
    "import pandas as pd\n",
    "import numpy as np\n",
    "import datetime"
   ]
  },
  {
   "cell_type": "code",
   "execution_count": 171,
   "metadata": {},
   "outputs": [
    {
     "output_type": "execute_result",
     "data": {
      "text/plain": "          orderid     shopid     userid          event_time\n0  31076582227611   93950878   30530270 2019-12-27 00:23:03\n1  31118059853484  156423439   46057927 2019-12-27 11:54:20\n2  31123355095755  173699291   67341739 2019-12-27 13:22:35\n3  31122059872723   63674025  149380322 2019-12-27 13:01:00\n4  31117075665123  127249066  149493217 2019-12-27 11:37:55",
      "text/html": "<div>\n<style scoped>\n    .dataframe tbody tr th:only-of-type {\n        vertical-align: middle;\n    }\n\n    .dataframe tbody tr th {\n        vertical-align: top;\n    }\n\n    .dataframe thead th {\n        text-align: right;\n    }\n</style>\n<table border=\"1\" class=\"dataframe\">\n  <thead>\n    <tr style=\"text-align: right;\">\n      <th></th>\n      <th>orderid</th>\n      <th>shopid</th>\n      <th>userid</th>\n      <th>event_time</th>\n    </tr>\n  </thead>\n  <tbody>\n    <tr>\n      <th>0</th>\n      <td>31076582227611</td>\n      <td>93950878</td>\n      <td>30530270</td>\n      <td>2019-12-27 00:23:03</td>\n    </tr>\n    <tr>\n      <th>1</th>\n      <td>31118059853484</td>\n      <td>156423439</td>\n      <td>46057927</td>\n      <td>2019-12-27 11:54:20</td>\n    </tr>\n    <tr>\n      <th>2</th>\n      <td>31123355095755</td>\n      <td>173699291</td>\n      <td>67341739</td>\n      <td>2019-12-27 13:22:35</td>\n    </tr>\n    <tr>\n      <th>3</th>\n      <td>31122059872723</td>\n      <td>63674025</td>\n      <td>149380322</td>\n      <td>2019-12-27 13:01:00</td>\n    </tr>\n    <tr>\n      <th>4</th>\n      <td>31117075665123</td>\n      <td>127249066</td>\n      <td>149493217</td>\n      <td>2019-12-27 11:37:55</td>\n    </tr>\n  </tbody>\n</table>\n</div>"
     },
     "metadata": {},
     "execution_count": 171
    }
   ],
   "source": [
    "data = pd.read_csv(\"order_brush_order.csv\")  # 读取csv\n",
    "data[\"event_time\"] = pd.to_datetime(data[\"event_time\"])  # 转换成日期格式\n",
    "data.head()"
   ]
  },
  {
   "cell_type": "code",
   "execution_count": 156,
   "metadata": {},
   "outputs": [],
   "source": []
  },
  {
   "cell_type": "code",
   "execution_count": 189,
   "metadata": {},
   "outputs": [
    {
     "output_type": "execute_result",
     "data": {
      "text/plain": "Empty DataFrame\nColumns: [shopid, userid]\nIndex: []",
      "text/html": "<div>\n<style scoped>\n    .dataframe tbody tr th:only-of-type {\n        vertical-align: middle;\n    }\n\n    .dataframe tbody tr th {\n        vertical-align: top;\n    }\n\n    .dataframe thead th {\n        text-align: right;\n    }\n</style>\n<table border=\"1\" class=\"dataframe\">\n  <thead>\n    <tr style=\"text-align: right;\">\n      <th></th>\n      <th>shopid</th>\n      <th>userid</th>\n    </tr>\n  </thead>\n  <tbody>\n  </tbody>\n</table>\n</div>"
     },
     "metadata": {},
     "execution_count": 189
    }
   ],
   "source": [
    "finalList = pd.DataFrame(columns=[\"shopid\", \"userid\"])\n",
    "finalList"
   ]
  },
  {
   "cell_type": "code",
   "execution_count": 190,
   "metadata": {
    "tags": []
   },
   "outputs": [],
   "source": [
    "groupedByShop = data.groupby([\"shopid\"])\n",
    "for shopid, group in groupedByShop:\n",
    "    # blackList = \"\"\n",
    "    # for index, row in group.iterrows():\n",
    "    #     st = row.event_time\n",
    "    #     unit = group[(st <= group['event_time']) & (group['event_time'] < st + datetime.timedelta(hours=1))]\n",
    "    #     trsAmt = unit.shape[0]\n",
    "    #     UsrAmt = len(unit[\"userid\"].unique())\n",
    "    #     # if (trsAmt/UsrAmt) >= 3:\n",
    "    #         # print(unit[\"userid\"].value_counts().shape[0])\n",
    "    #         # print(\"------------------------\")\n",
    "    if blackList == \"\":\n",
    "        finalList =finalList.append([{\"shopid\": shopid,\"userid\": 0}],ignore_index=True)\n",
    "print(finalList)\n",
    "# print(finalList)\n",
    "        # print(unit)\n",
    "        # print(\"trans:   \",trsAmt)\n",
    "        # print(\"usr: :   \",UsrAmt)"
   ]
  }
 ],
 "metadata": {
  "language_info": {
   "codemirror_mode": {
    "name": "ipython",
    "version": 3
   },
   "file_extension": ".py",
   "mimetype": "text/x-python",
   "name": "python",
   "nbconvert_exporter": "python",
   "pygments_lexer": "ipython3",
   "version": "3.7.6-final"
  },
  "orig_nbformat": 2,
  "kernelspec": {
   "name": "python3",
   "display_name": "Python 3"
  }
 },
 "nbformat": 4,
 "nbformat_minor": 2
}