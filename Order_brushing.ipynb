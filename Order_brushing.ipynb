{
 "cells": [
  {
   "cell_type": "code",
   "execution_count": 1,
   "metadata": {},
   "outputs": [],
   "source": [
    "import pandas as pd\n",
    "import numpy as np\n",
    "import datetime"
   ]
  },
  {
   "cell_type": "code",
   "execution_count": 2,
   "metadata": {},
   "outputs": [
    {
     "output_type": "execute_result",
     "data": {
      "text/plain": "          orderid     shopid     userid          event_time\n0  31076582227611   93950878   30530270 2019-12-27 00:23:03\n1  31118059853484  156423439   46057927 2019-12-27 11:54:20\n2  31123355095755  173699291   67341739 2019-12-27 13:22:35\n3  31122059872723   63674025  149380322 2019-12-27 13:01:00\n4  31117075665123  127249066  149493217 2019-12-27 11:37:55",
      "text/html": "<div>\n<style scoped>\n    .dataframe tbody tr th:only-of-type {\n        vertical-align: middle;\n    }\n\n    .dataframe tbody tr th {\n        vertical-align: top;\n    }\n\n    .dataframe thead th {\n        text-align: right;\n    }\n</style>\n<table border=\"1\" class=\"dataframe\">\n  <thead>\n    <tr style=\"text-align: right;\">\n      <th></th>\n      <th>orderid</th>\n      <th>shopid</th>\n      <th>userid</th>\n      <th>event_time</th>\n    </tr>\n  </thead>\n  <tbody>\n    <tr>\n      <th>0</th>\n      <td>31076582227611</td>\n      <td>93950878</td>\n      <td>30530270</td>\n      <td>2019-12-27 00:23:03</td>\n    </tr>\n    <tr>\n      <th>1</th>\n      <td>31118059853484</td>\n      <td>156423439</td>\n      <td>46057927</td>\n      <td>2019-12-27 11:54:20</td>\n    </tr>\n    <tr>\n      <th>2</th>\n      <td>31123355095755</td>\n      <td>173699291</td>\n      <td>67341739</td>\n      <td>2019-12-27 13:22:35</td>\n    </tr>\n    <tr>\n      <th>3</th>\n      <td>31122059872723</td>\n      <td>63674025</td>\n      <td>149380322</td>\n      <td>2019-12-27 13:01:00</td>\n    </tr>\n    <tr>\n      <th>4</th>\n      <td>31117075665123</td>\n      <td>127249066</td>\n      <td>149493217</td>\n      <td>2019-12-27 11:37:55</td>\n    </tr>\n  </tbody>\n</table>\n</div>"
     },
     "metadata": {},
     "execution_count": 2
    }
   ],
   "source": [
    "data = pd.read_csv(\"order_brush_order.csv\")\n",
    "data[\"event_time\"] = pd.to_datetime(data[\"event_time\"])\n",
    "data.head()"
   ]
  },
  {
   "cell_type": "code",
   "execution_count": 3,
   "metadata": {},
   "outputs": [],
   "source": [
    "finalList = pd.DataFrame(columns=[\"shopid\", \"userid\"])"
   ]
  },
  {
   "cell_type": "code",
   "execution_count": 5,
   "metadata": {
    "tags": []
   },
   "outputs": [],
   "source": [
    "for shopid, group in data.groupby([\"shopid\"]):\n",
    "    usrList = pd.Series()\n",
    "    for index, row in group.iterrows():\n",
    "        st = row.event_time\n",
    "        unit = group[(st <= group['event_time']) & (group['event_time'] < st + datetime.timedelta(hours=1))]\n",
    "        trsAmt = unit.shape[0]\n",
    "        UsrAmt = len(unit[\"userid\"].unique())\n",
    "        if (trsAmt/UsrAmt) >= 3:\n",
    "            temp = unit[\"userid\"].value_counts()\n",
    "            usrList = usrList.append(pd.Series(temp[temp.values == max(temp)].index))\n",
    "    blackList = \"\"\n",
    "    usrList = usrList.drop_duplicates().sort_values()\n",
    "    for i, v in usrList.iteritems():\n",
    "        blackList = blackList + \"&\" + str(v)\n",
    "    if blackList == \"\":\n",
    "        blackList = \"0\"\n",
    "    else:\n",
    "        blackList = blackList[1:]\n",
    "    finalList =finalList.append([{\"shopid\": shopid,\"userid\": blackList}],ignore_index=True)\n",
    "finalList.to_csv(\"./submission.csv\", index = False)\n",
    "finalList"
   ]
  }
 ],
 "metadata": {
  "language_info": {
   "codemirror_mode": {
    "name": "ipython",
    "version": 3
   },
   "file_extension": ".py",
   "mimetype": "text/x-python",
   "name": "python",
   "nbconvert_exporter": "python",
   "pygments_lexer": "ipython3",
   "version": "3.7.6-final"
  },
  "orig_nbformat": 2,
  "kernelspec": {
   "name": "python3",
   "display_name": "Python 3"
  }
 },
 "nbformat": 4,
 "nbformat_minor": 2
}